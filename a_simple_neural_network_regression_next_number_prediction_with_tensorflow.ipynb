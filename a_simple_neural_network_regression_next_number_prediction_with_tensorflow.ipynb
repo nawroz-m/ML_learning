{
  "nbformat": 4,
  "nbformat_minor": 0,
  "metadata": {
    "colab": {
      "provenance": [],
      "authorship_tag": "ABX9TyNs7WDOivySoSaI8+R+SIYR",
      "include_colab_link": true
    },
    "kernelspec": {
      "name": "python3",
      "display_name": "Python 3"
    },
    "language_info": {
      "name": "python"
    }
  },
  "cells": [
    {
      "cell_type": "markdown",
      "metadata": {
        "id": "view-in-github",
        "colab_type": "text"
      },
      "source": [
        "<a href=\"https://colab.research.google.com/github/nawroz-m/ML_learning/blob/main/a_simple_neural_network_regression_next_number_prediction_with_tensorflow.ipynb\" target=\"_parent\"><img src=\"https://colab.research.google.com/assets/colab-badge.svg\" alt=\"Open In Colab\"/></a>"
      ]
    },
    {
      "cell_type": "code",
      "execution_count": 25,
      "metadata": {
        "colab": {
          "base_uri": "https://localhost:8080/",
          "height": 35
        },
        "id": "9OQ2IwTpixVn",
        "outputId": "538425cb-4ed4-405f-82bd-f207fcd31af6"
      },
      "outputs": [
        {
          "output_type": "execute_result",
          "data": {
            "text/plain": [
              "'2.19.0'"
            ],
            "application/vnd.google.colaboratory.intrinsic+json": {
              "type": "string"
            }
          },
          "metadata": {},
          "execution_count": 25
        }
      ],
      "source": [
        "# Import tenosorflow and numpy\n",
        "import tensorflow as tf\n",
        "import numpy as np\n",
        "import matplotlib.pyplot as plt\n",
        "\n",
        "tf.__version__"
      ]
    },
    {
      "cell_type": "markdown",
      "source": [
        "# Steps to create a model"
      ],
      "metadata": {
        "id": "WuqNefrhjadE"
      }
    },
    {
      "cell_type": "markdown",
      "source": [
        "1. Create a model  \n",
        "* Define the input and out put"
      ],
      "metadata": {
        "id": "kvgpbvs3lbvf"
      }
    },
    {
      "cell_type": "code",
      "source": [
        "X = np.array([-15.0, -7, -1, 6, 12, 24.0, 30, 50])\n",
        "y = np.array([-5.,  3.,  9., 16., 22., 34., 40., 60])\n",
        "\n",
        "# Praper the Input\n",
        "X = tf.constant(X, dtype=tf.float16) # float16 for faster experience lower acuracy\n",
        "\n",
        "# Praper the Output\n",
        "y = tf.constant(y, dtype=tf.float16)\n",
        "X, y"
      ],
      "metadata": {
        "colab": {
          "base_uri": "https://localhost:8080/"
        },
        "id": "Q6wD0qgPlq6o",
        "outputId": "65831379-651e-4099-b36b-27fbd566a2cf"
      },
      "execution_count": 52,
      "outputs": [
        {
          "output_type": "execute_result",
          "data": {
            "text/plain": [
              "(<tf.Tensor: shape=(8,), dtype=float16, numpy=array([-15.,  -7.,  -1.,   6.,  12.,  24.,  30.,  50.], dtype=float16)>,\n",
              " <tf.Tensor: shape=(8,), dtype=float16, numpy=array([-5.,  3.,  9., 16., 22., 34., 40., 60.], dtype=float16)>)"
            ]
          },
          "metadata": {},
          "execution_count": 52
        }
      ]
    },
    {
      "cell_type": "code",
      "source": [
        "# check the input and output realation on the graph\n",
        "plt.scatter(X, y)"
      ],
      "metadata": {
        "colab": {
          "base_uri": "https://localhost:8080/",
          "height": 448
        },
        "id": "3cM6A-cRnszD",
        "outputId": "29719486-bb53-48a9-ff4d-04be76a15669"
      },
      "execution_count": 53,
      "outputs": [
        {
          "output_type": "execute_result",
          "data": {
            "text/plain": [
              "<matplotlib.collections.PathCollection at 0x791e5b019820>"
            ]
          },
          "metadata": {},
          "execution_count": 53
        },
        {
          "output_type": "display_data",
          "data": {
            "text/plain": [
              "<Figure size 640x480 with 1 Axes>"
            ],
            "image/png": "[encoded data removed]"
          },
          "metadata": {}
        }
      ]
    },
    {
      "cell_type": "code",
      "source": [
        "# Set a random seed\n",
        "tf.random.set_seed(42)"
      ],
      "metadata": {
        "id": "yl-0X1KVpXY8"
      },
      "execution_count": 55,
      "outputs": []
    },
    {
      "cell_type": "markdown",
      "source": [
        "* Create the model using Sequential API"
      ],
      "metadata": {
        "id": "n6pi50xjp_2c"
      }
    },
    {
      "cell_type": "code",
      "source": [
        "model = tf.keras.Sequential(\n",
        "    [\n",
        "    # Create the input\n",
        "    tf.keras.layers.Dense(1) # ther reason why I am using 1 is that I want to build a model to get one number as input and predict one number\n",
        "    ]\n",
        ")\n",
        "\n"
      ],
      "metadata": {
        "id": "MAXnhBc4qI_K"
      },
      "execution_count": 56,
      "outputs": []
    },
    {
      "cell_type": "markdown",
      "source": [
        "2. Compile the model"
      ],
      "metadata": {
        "id": "OwtL3OCh4i6e"
      }
    },
    {
      "cell_type": "code",
      "source": [
        "model.compile(loss=tf.keras.losses.mae, # loos function\n",
        "              optimizer=tf.keras.optimizers.SGD(), # optimizer function\n",
        "              metrics=['mae'] # evaluation metrics\n",
        "              )"
      ],
      "metadata": {
        "id": "zMIIysl35TOA"
      },
      "execution_count": 57,
      "outputs": []
    },
    {
      "cell_type": "markdown",
      "source": [
        "3. Fit the model"
      ],
      "metadata": {
        "id": "qA_ei-lTBfS9"
      }
    },
    {
      "cell_type": "code",
      "source": [
        "# tf.expand_dims(X, axis=-1)\n",
        "\n",
        "model.fit(tf.expand_dims(X, axis=-1), y, epochs=5) # tell the model you got 5 opportunity to go through all x and y values and find pattern or relationship"
      ],
      "metadata": {
        "colab": {
          "base_uri": "https://localhost:8080/"
        },
        "id": "8rPmIcS3B5MQ",
        "outputId": "dbc09c69-35c2-4f13-c1da-0acb9617c5b0"
      },
      "execution_count": 58,
      "outputs": [
        {
          "output_type": "stream",
          "name": "stdout",
          "text": [
            "Epoch 1/5\n",
            "\u001b[1m1/1\u001b[0m \u001b[32m━━━━━━━━━━━━━━━━━━━━\u001b[0m\u001b[37m\u001b[0m \u001b[1m0s\u001b[0m 409ms/step - loss: 7.5253 - mae: 7.5253\n",
            "Epoch 2/5\n",
            "\u001b[1m1/1\u001b[0m \u001b[32m━━━━━━━━━━━━━━━━━━━━\u001b[0m\u001b[37m\u001b[0m \u001b[1m0s\u001b[0m 43ms/step - loss: 7.5195 - mae: 7.5195\n",
            "Epoch 3/5\n",
            "\u001b[1m1/1\u001b[0m \u001b[32m━━━━━━━━━━━━━━━━━━━━\u001b[0m\u001b[37m\u001b[0m \u001b[1m0s\u001b[0m 42ms/step - loss: 7.5137 - mae: 7.5137\n",
            "Epoch 4/5\n",
            "\u001b[1m1/1\u001b[0m \u001b[32m━━━━━━━━━━━━━━━━━━━━\u001b[0m\u001b[37m\u001b[0m \u001b[1m0s\u001b[0m 41ms/step - loss: 7.5200 - mae: 7.5200\n",
            "Epoch 5/5\n",
            "\u001b[1m1/1\u001b[0m \u001b[32m━━━━━━━━━━━━━━━━━━━━\u001b[0m\u001b[37m\u001b[0m \u001b[1m0s\u001b[0m 54ms/step - loss: 7.5159 - mae: 7.5159\n"
          ]
        },
        {
          "output_type": "execute_result",
          "data": {
            "text/plain": [
              "<keras.src.callbacks.history.History at 0x791e5ae619d0>"
            ]
          },
          "metadata": {},
          "execution_count": 58
        }
      ]
    },
    {
      "cell_type": "code",
      "source": [
        "# Predict the next number\n",
        "model.predict(np.array([17.0]))"
      ],
      "metadata": {
        "colab": {
          "base_uri": "https://localhost:8080/"
        },
        "id": "EGYnC4wKHK-C",
        "outputId": "decd8a7b-746b-4f82-baf6-921184dc95aa"
      },
      "execution_count": 66,
      "outputs": [
        {
          "output_type": "stream",
          "name": "stdout",
          "text": [
            "\u001b[1m1/1\u001b[0m \u001b[32m━━━━━━━━━━━━━━━━━━━━\u001b[0m\u001b[37m\u001b[0m \u001b[1m0s\u001b[0m 51ms/step\n"
          ]
        },
        {
          "output_type": "execute_result",
          "data": {
            "text/plain": [
              "array([[22.498468]], dtype=float32)"
            ]
          },
          "metadata": {},
          "execution_count": 66
        }
      ]
    }
  ]
}